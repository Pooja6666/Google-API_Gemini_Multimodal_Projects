{
 "cells": [
  {
   "cell_type": "code",
   "execution_count": 1,
   "id": "82412ba9",
   "metadata": {},
   "outputs": [],
   "source": [
    "import google.generativeai as genai\n",
    "import os\n",
    "from gemini_api_key import google_key"
   ]
  },
  {
   "cell_type": "code",
   "execution_count": 2,
   "id": "2db7ccc6",
   "metadata": {},
   "outputs": [],
   "source": [
    "os.environ[\"Ramyaa\"] = google_key\n",
    "\n",
    "Ramyaa = google_key"
   ]
  },
  {
   "cell_type": "code",
   "execution_count": 3,
   "id": "fe81c3aa",
   "metadata": {},
   "outputs": [],
   "source": [
    "model =genai.configure(api_key= Ramyaa)\n"
   ]
  },
  {
   "cell_type": "code",
   "execution_count": 4,
   "id": "a9016fa2",
   "metadata": {},
   "outputs": [
    {
     "name": "stdout",
     "output_type": "stream",
     "text": [
      "models/chat-bison-001\n",
      "models/text-bison-001\n",
      "models/embedding-gecko-001\n",
      "models/gemini-1.0-pro-latest\n",
      "models/gemini-1.0-pro\n",
      "models/gemini-pro\n",
      "models/gemini-1.0-pro-001\n",
      "models/gemini-1.0-pro-vision-latest\n",
      "models/gemini-pro-vision\n",
      "models/gemini-1.5-pro-latest\n",
      "models/gemini-1.5-pro-001\n",
      "models/gemini-1.5-pro\n",
      "models/gemini-1.5-pro-exp-0801\n",
      "models/gemini-1.5-flash-latest\n",
      "models/gemini-1.5-flash-001\n",
      "models/gemini-1.5-flash\n",
      "models/gemini-1.5-flash-001-tuning\n",
      "models/embedding-001\n",
      "models/text-embedding-004\n",
      "models/aqa\n"
     ]
    }
   ],
   "source": [
    "for i in genai.list_models():\n",
    "    print(i.name)"
   ]
  },
  {
   "cell_type": "code",
   "execution_count": 15,
   "id": "48052f02",
   "metadata": {},
   "outputs": [
    {
     "name": "stdout",
     "output_type": "stream",
     "text": [
      "processing video...\n",
      "Control your emotions and never beg for attention, love, or care. If someone doesn’t want to talk to you, don’t force them, because forced relationships don’t last much longer. So why shatter your soul for temporary gain? Hold yourself together and distance yourself for the sake of your mental and emotional well-being. You’re a good person, you’re just trying to prove it to the wrong one. The right one will never let you beg for anything. People don’t neglect those they love, they neglect either because you are no longer useful to them or they don’t want you to be the part of their life. Don’t ever forget that. So be strong and value your sanity. Don’t try to paint a different picture of them after experiencing all the red flags. You will hurt yourself more if you carry on. \n"
     ]
    }
   ],
   "source": [
    "import time\n",
    "\n",
    "# Video clip (CC BY 3.0) from https://peach.blender.org/download/\n",
    "myfile = genai.upload_file(r\"C:\\Users\\DELL\\Downloads\\WhatsApp Video 2024-08-11 at 9.25.10 PM.mp4\")\n",
    "\n",
    "\n",
    "# Videos need to be processed before you can use them.\n",
    "while myfile.state.name == \"PROCESSING\":\n",
    "    print(\"processing video...\")\n",
    "    time.sleep(5)\n",
    "    myfile = genai.get_file(myfile.name)\n",
    "    \n",
    "prompt = \"generate the speech\"\n",
    "\n",
    "model = genai.GenerativeModel(\"gemini-1.5-flash\")\n",
    "response = model.generate_content([myfile, prompt])\n",
    "print(response.text)"
   ]
  },
  {
   "cell_type": "markdown",
   "id": "3d62e2f3",
   "metadata": {},
   "source": [
    "## PDF"
   ]
  },
  {
   "cell_type": "code",
   "execution_count": 19,
   "id": "56775b65",
   "metadata": {},
   "outputs": [
    {
     "name": "stdout",
     "output_type": "stream",
     "text": [
      "This resume is well-structured and provides a good overview of the candidate's skills and experience. It's easy to read and navigate, and the information is presented in a clear and concise manner.  However, it lacks  quantifiable results and achievements. \n",
      "\n",
      "Here's a breakdown of the rating:\n",
      "\n",
      "* **Content:**  4/5 -  Covers essential information, but could benefit from quantifiable achievements.\n",
      "* **Structure:** 5/5 - Well-organized and easy to read.\n",
      "* **Visual Appeal:** 4/5 -  Looks professional, but could be improved with better formatting.\n",
      "* **Impact:** 3/5 -  Could be more impactful by highlighting specific achievements and quantifiable results.\n",
      "\n",
      "**Overall:** 4/5 - This resume is a good starting point, but it could be improved by adding more specific details about the candidate's achievements and impact. \n",
      "\n"
     ]
    }
   ],
   "source": [
    "model = genai.GenerativeModel(model_name=\"gemini-1.5-flash\")\n",
    "\n",
    "sample_pdf = genai.upload_file(r\"C:\\Users\\DELL\\OneDrive\\Documents\\Pooja\\Data_Scientist_cv\\Pooja_Varganti_CV.pdf\")\n",
    "\n",
    "prompt = \"how much rating in scale of 5 you can give for this content in pdf file\"\n",
    "\n",
    "response = model.generate_content([sample_pdf,prompt])\n",
    "\n",
    "print(response.text)"
   ]
  },
  {
   "cell_type": "markdown",
   "id": "3d2c9349",
   "metadata": {},
   "source": [
    "## chat"
   ]
  },
  {
   "cell_type": "code",
   "execution_count": 22,
   "id": "963f7397",
   "metadata": {},
   "outputs": [
    {
     "name": "stdout",
     "output_type": "stream",
     "text": [
      "That's lovely! It's great to have someone special in your life. Is there anything you'd like to talk about regarding Pooja? I'm here to listen and offer any support I can. 😊 \n",
      "\n"
     ]
    },
    {
     "ename": "StopCandidateException",
     "evalue": "index: 0\nfinish_reason: SAFETY\nsafety_ratings {\n  category: HARM_CATEGORY_SEXUALLY_EXPLICIT\n  probability: MEDIUM\n}\nsafety_ratings {\n  category: HARM_CATEGORY_HATE_SPEECH\n  probability: NEGLIGIBLE\n}\nsafety_ratings {\n  category: HARM_CATEGORY_HARASSMENT\n  probability: NEGLIGIBLE\n}\nsafety_ratings {\n  category: HARM_CATEGORY_DANGEROUS_CONTENT\n  probability: NEGLIGIBLE\n}\n",
     "output_type": "error",
     "traceback": [
      "\u001b[1;31m---------------------------------------------------------------------------\u001b[0m",
      "\u001b[1;31mStopCandidateException\u001b[0m                    Traceback (most recent call last)",
      "Cell \u001b[1;32mIn[22], line 10\u001b[0m\n\u001b[0;32m      8\u001b[0m response \u001b[38;5;241m=\u001b[39m chat\u001b[38;5;241m.\u001b[39msend_message(\u001b[38;5;124m\"\u001b[39m\u001b[38;5;124mi have a girl friend and she name is pooja\u001b[39m\u001b[38;5;124m\"\u001b[39m)\n\u001b[0;32m      9\u001b[0m \u001b[38;5;28mprint\u001b[39m(response\u001b[38;5;241m.\u001b[39mtext)\n\u001b[1;32m---> 10\u001b[0m response \u001b[38;5;241m=\u001b[39m chat\u001b[38;5;241m.\u001b[39msend_message(\u001b[38;5;124m\"\u001b[39m\u001b[38;5;124mhow to propose to him like infinite\u001b[39m\u001b[38;5;124m\"\u001b[39m)\n\u001b[0;32m     11\u001b[0m \u001b[38;5;28mprint\u001b[39m(response\u001b[38;5;241m.\u001b[39mtext)\n",
      "File \u001b[1;32m~\\AppData\\Roaming\\Python\\Python311\\site-packages\\google\\generativeai\\generative_models.py:588\u001b[0m, in \u001b[0;36mChatSession.send_message\u001b[1;34m(self, content, generation_config, safety_settings, stream, tools, tool_config, request_options)\u001b[0m\n\u001b[0;32m    574\u001b[0m     \u001b[38;5;28;01mraise\u001b[39;00m \u001b[38;5;167;01mValueError\u001b[39;00m(\n\u001b[0;32m    575\u001b[0m         \u001b[38;5;124m\"\u001b[39m\u001b[38;5;124mInvalid configuration: The chat functionality does not support `candidate_count` greater than 1.\u001b[39m\u001b[38;5;124m\"\u001b[39m\n\u001b[0;32m    576\u001b[0m     )\n\u001b[0;32m    578\u001b[0m response \u001b[38;5;241m=\u001b[39m \u001b[38;5;28mself\u001b[39m\u001b[38;5;241m.\u001b[39mmodel\u001b[38;5;241m.\u001b[39mgenerate_content(\n\u001b[0;32m    579\u001b[0m     contents\u001b[38;5;241m=\u001b[39mhistory,\n\u001b[0;32m    580\u001b[0m     generation_config\u001b[38;5;241m=\u001b[39mgeneration_config,\n\u001b[1;32m   (...)\u001b[0m\n\u001b[0;32m    585\u001b[0m     request_options\u001b[38;5;241m=\u001b[39mrequest_options,\n\u001b[0;32m    586\u001b[0m )\n\u001b[1;32m--> 588\u001b[0m \u001b[38;5;28mself\u001b[39m\u001b[38;5;241m.\u001b[39m_check_response(response\u001b[38;5;241m=\u001b[39mresponse, stream\u001b[38;5;241m=\u001b[39mstream)\n\u001b[0;32m    590\u001b[0m \u001b[38;5;28;01mif\u001b[39;00m \u001b[38;5;28mself\u001b[39m\u001b[38;5;241m.\u001b[39menable_automatic_function_calling \u001b[38;5;129;01mand\u001b[39;00m tools_lib \u001b[38;5;129;01mis\u001b[39;00m \u001b[38;5;129;01mnot\u001b[39;00m \u001b[38;5;28;01mNone\u001b[39;00m:\n\u001b[0;32m    591\u001b[0m     \u001b[38;5;28mself\u001b[39m\u001b[38;5;241m.\u001b[39mhistory, content, response \u001b[38;5;241m=\u001b[39m \u001b[38;5;28mself\u001b[39m\u001b[38;5;241m.\u001b[39m_handle_afc(\n\u001b[0;32m    592\u001b[0m         response\u001b[38;5;241m=\u001b[39mresponse,\n\u001b[0;32m    593\u001b[0m         history\u001b[38;5;241m=\u001b[39mhistory,\n\u001b[1;32m   (...)\u001b[0m\n\u001b[0;32m    598\u001b[0m         request_options\u001b[38;5;241m=\u001b[39mrequest_options,\n\u001b[0;32m    599\u001b[0m     )\n",
      "File \u001b[1;32m~\\AppData\\Roaming\\Python\\Python311\\site-packages\\google\\generativeai\\generative_models.py:616\u001b[0m, in \u001b[0;36mChatSession._check_response\u001b[1;34m(self, response, stream)\u001b[0m\n\u001b[0;32m    610\u001b[0m \u001b[38;5;28;01mif\u001b[39;00m \u001b[38;5;129;01mnot\u001b[39;00m stream:\n\u001b[0;32m    611\u001b[0m     \u001b[38;5;28;01mif\u001b[39;00m response\u001b[38;5;241m.\u001b[39mcandidates[\u001b[38;5;241m0\u001b[39m]\u001b[38;5;241m.\u001b[39mfinish_reason \u001b[38;5;129;01mnot\u001b[39;00m \u001b[38;5;129;01min\u001b[39;00m (\n\u001b[0;32m    612\u001b[0m         protos\u001b[38;5;241m.\u001b[39mCandidate\u001b[38;5;241m.\u001b[39mFinishReason\u001b[38;5;241m.\u001b[39mFINISH_REASON_UNSPECIFIED,\n\u001b[0;32m    613\u001b[0m         protos\u001b[38;5;241m.\u001b[39mCandidate\u001b[38;5;241m.\u001b[39mFinishReason\u001b[38;5;241m.\u001b[39mSTOP,\n\u001b[0;32m    614\u001b[0m         protos\u001b[38;5;241m.\u001b[39mCandidate\u001b[38;5;241m.\u001b[39mFinishReason\u001b[38;5;241m.\u001b[39mMAX_TOKENS,\n\u001b[0;32m    615\u001b[0m     ):\n\u001b[1;32m--> 616\u001b[0m         \u001b[38;5;28;01mraise\u001b[39;00m generation_types\u001b[38;5;241m.\u001b[39mStopCandidateException(response\u001b[38;5;241m.\u001b[39mcandidates[\u001b[38;5;241m0\u001b[39m])\n",
      "\u001b[1;31mStopCandidateException\u001b[0m: index: 0\nfinish_reason: SAFETY\nsafety_ratings {\n  category: HARM_CATEGORY_SEXUALLY_EXPLICIT\n  probability: MEDIUM\n}\nsafety_ratings {\n  category: HARM_CATEGORY_HATE_SPEECH\n  probability: NEGLIGIBLE\n}\nsafety_ratings {\n  category: HARM_CATEGORY_HARASSMENT\n  probability: NEGLIGIBLE\n}\nsafety_ratings {\n  category: HARM_CATEGORY_DANGEROUS_CONTENT\n  probability: NEGLIGIBLE\n}\n"
     ]
    }
   ],
   "source": [
    "model = genai.GenerativeModel(\"gemini-1.5-flash\")\n",
    "chat = model.start_chat(\n",
    "    history=[\n",
    "        {\"role\": \"user\", \"parts\": \"Hello\"},\n",
    "        {\"role\": \"model\", \"parts\": \"Great to meet you. What would you like to know?\"},\n",
    "    ]\n",
    ")\n",
    "response = chat.send_message(\"i have a girl friend and she name is pooja\")\n",
    "print(response.text)\n",
    "response = chat.send_message(\"how to propose to him like infinite\")\n",
    "print(response.text)\n"
   ]
  },
  {
   "cell_type": "code",
   "execution_count": null,
   "id": "08084912",
   "metadata": {},
   "outputs": [],
   "source": []
  }
 ],
 "metadata": {
  "kernelspec": {
   "display_name": "Python 3 (ipykernel)",
   "language": "python",
   "name": "python3"
  },
  "language_info": {
   "codemirror_mode": {
    "name": "ipython",
    "version": 3
   },
   "file_extension": ".py",
   "mimetype": "text/x-python",
   "name": "python",
   "nbconvert_exporter": "python",
   "pygments_lexer": "ipython3",
   "version": "3.11.5"
  }
 },
 "nbformat": 4,
 "nbformat_minor": 5
}
